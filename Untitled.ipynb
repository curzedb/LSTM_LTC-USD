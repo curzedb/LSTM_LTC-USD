{
 "cells": [
  {
   "cell_type": "markdown",
   "id": "e3115aec-9d91-4164-b264-7a763663b6e6",
   "metadata": {},
   "source": [
    "# Implementasi Algoritma Long Short Term Memory untuk Memprediksi Harga Mata Uang Kripto Litecoin"
   ]
  },
  {
   "cell_type": "markdown",
   "id": "39cd2636-dda3-4785-9a8a-114b9e0b5470",
   "metadata": {},
   "source": [
    "## 1. Import Library Python yang Dibutuhkan"
   ]
  },
  {
   "cell_type": "code",
   "execution_count": 3,
   "id": "524228e1-5815-4efc-a5f2-96615bbb4f73",
   "metadata": {},
   "outputs": [],
   "source": [
    "# Library utama\n",
    "import os\n",
    "import pandas as pd\n",
    "import numpy as np\n",
    "import math\n",
    "import datetime as dt\n",
    "import seaborn as sb\n",
    "import warnings\n",
    "\n",
    "# Library untuk Evaluasi\n",
    "from sklearn.metrics import mean_squared_error, mean_absolute_error, explained_variance_score, r2_score \n",
    "from sklearn.metrics import mean_poisson_deviance, mean_gamma_deviance, accuracy_score\n",
    "from sklearn.preprocessing import MinMaxScaler, StandardScaler\n",
    "\n",
    "# Library untuk Plot dan Grafik\n",
    "import matplotlib.pyplot as plt\n",
    "from itertools import cycle\n",
    "import plotly.graph_objects as go\n",
    "import plotly.express as px\n",
    "from plotly.subplots import make_subplots\n",
    "\n",
    "# Library untuk Algoritma Long Short Term Memory\n",
    "import tensorflow as tf\n",
    "from tensorflow.keras.models import Sequential\n",
    "from tensorflow.keras.layers import Dense, Dropout\n",
    "from tensorflow.keras.layers import LSTM"
   ]
  },
  {
   "cell_type": "markdown",
   "id": "af288771-67fe-4570-b02c-dcb219af11c3",
   "metadata": {},
   "source": [
    "## 2. Memuat dan Menganalisis Dataset"
   ]
  },
  {
   "cell_type": "markdown",
   "id": "b553fab0-9987-4a80-b20a-737ad81cedc1",
   "metadata": {},
   "source": [
    "## 3. Preprocessing Data"
   ]
  },
  {
   "cell_type": "markdown",
   "id": "4bd31a42-30ee-46e4-bf5d-61fccccf5dc3",
   "metadata": {},
   "source": [
    "## 4. Analisis Menggunakan Allgoritma LSTM"
   ]
  },
  {
   "cell_type": "markdown",
   "id": "fb954cd6-6eb1-4278-88b7-14ce39b48e13",
   "metadata": {},
   "source": [
    "## 5. Evaluasi Prediksi"
   ]
  },
  {
   "cell_type": "markdown",
   "id": "0405d2b6-a284-4adf-9dbb-f961e974adf6",
   "metadata": {},
   "source": [
    "## 6. Implementasi"
   ]
  },
  {
   "cell_type": "code",
   "execution_count": null,
   "id": "4f121c30-3d59-4752-9a56-d0afcce4acfc",
   "metadata": {},
   "outputs": [],
   "source": []
  }
 ],
 "metadata": {
  "kernelspec": {
   "display_name": "Python 3 (ipykernel)",
   "language": "python",
   "name": "python3"
  },
  "language_info": {
   "codemirror_mode": {
    "name": "ipython",
    "version": 3
   },
   "file_extension": ".py",
   "mimetype": "text/x-python",
   "name": "python",
   "nbconvert_exporter": "python",
   "pygments_lexer": "ipython3",
   "version": "3.11.7"
  }
 },
 "nbformat": 4,
 "nbformat_minor": 5
}
