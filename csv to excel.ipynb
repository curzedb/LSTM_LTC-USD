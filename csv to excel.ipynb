{
 "cells": [
  {
   "cell_type": "code",
   "execution_count": null,
   "id": "68314d44-5b6b-4b03-83a0-9c37782a8c62",
   "metadata": {},
   "outputs": [],
   "source": [
    "import pandas as pd\n",
    "read_file_product = pd.read_csv (r'Path where the CSV file is stored\\File name.csv')\n",
    "read_file_product.to_excel (r'Path to store the Excel file\\File name.xlsx', index = None, header=True)\n"
   ]
  }
 ],
 "metadata": {
  "kernelspec": {
   "display_name": "Python 3 (ipykernel)",
   "language": "python",
   "name": "python3"
  },
  "language_info": {
   "codemirror_mode": {
    "name": "ipython",
    "version": 3
   },
   "file_extension": ".py",
   "mimetype": "text/x-python",
   "name": "python",
   "nbconvert_exporter": "python",
   "pygments_lexer": "ipython3",
   "version": "3.11.7"
  }
 },
 "nbformat": 4,
 "nbformat_minor": 5
}
